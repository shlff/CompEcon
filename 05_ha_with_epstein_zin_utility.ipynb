{
  "cells": [
    {
      "cell_type": "markdown",
      "metadata": {
        "id": "view-in-github",
        "colab_type": "text"
      },
      "source": [
        "<a href=\"https://colab.research.google.com/github/shlff/CompEcon/blob/main/05_ha_with_epstein_zin_utility.ipynb\" target=\"_parent\"><img src=\"https://colab.research.google.com/assets/colab-badge.svg\" alt=\"Open In Colab\"/></a>"
      ]
    },
    {
      "cell_type": "code",
      "execution_count": null,
      "id": "t68Dq0UNiVh7",
      "metadata": {
        "colab": {
          "base_uri": "https://localhost:8080/"
        },
        "id": "t68Dq0UNiVh7",
        "outputId": "28ce2f25-8060-4015-d632-6d903a0912a5"
      },
      "outputs": [
        {
          "output_type": "stream",
          "name": "stdout",
          "text": [
            "Requirement already satisfied: quantecon in /usr/local/lib/python3.10/dist-packages (0.7.2)\n",
            "Requirement already satisfied: numba>=0.49.0 in /usr/local/lib/python3.10/dist-packages (from quantecon) (0.58.1)\n",
            "Requirement already satisfied: numpy>=1.17.0 in /usr/local/lib/python3.10/dist-packages (from quantecon) (1.25.2)\n",
            "Requirement already satisfied: requests in /usr/local/lib/python3.10/dist-packages (from quantecon) (2.31.0)\n",
            "Requirement already satisfied: scipy>=1.5.0 in /usr/local/lib/python3.10/dist-packages (from quantecon) (1.11.4)\n",
            "Requirement already satisfied: sympy in /usr/local/lib/python3.10/dist-packages (from quantecon) (1.12)\n",
            "Requirement already satisfied: llvmlite<0.42,>=0.41.0dev0 in /usr/local/lib/python3.10/dist-packages (from numba>=0.49.0->quantecon) (0.41.1)\n",
            "Requirement already satisfied: charset-normalizer<4,>=2 in /usr/local/lib/python3.10/dist-packages (from requests->quantecon) (3.3.2)\n",
            "Requirement already satisfied: idna<4,>=2.5 in /usr/local/lib/python3.10/dist-packages (from requests->quantecon) (3.6)\n",
            "Requirement already satisfied: urllib3<3,>=1.21.1 in /usr/local/lib/python3.10/dist-packages (from requests->quantecon) (2.0.7)\n",
            "Requirement already satisfied: certifi>=2017.4.17 in /usr/local/lib/python3.10/dist-packages (from requests->quantecon) (2024.2.2)\n",
            "Requirement already satisfied: mpmath>=0.19 in /usr/local/lib/python3.10/dist-packages (from sympy->quantecon) (1.3.0)\n"
          ]
        }
      ],
      "source": [
        "!pip install --upgrade quantecon"
      ]
    },
    {
      "cell_type": "code",
      "execution_count": null,
      "id": "R3QZpivgU8Aw",
      "metadata": {
        "colab": {
          "base_uri": "https://localhost:8080/"
        },
        "id": "R3QZpivgU8Aw",
        "outputId": "3358e21d-1507-4706-8c5f-edd380f33650"
      },
      "outputs": [
        {
          "output_type": "stream",
          "name": "stdout",
          "text": [
            "Wed Apr  3 08:02:18 2024       \n",
            "+---------------------------------------------------------------------------------------+\n",
            "| NVIDIA-SMI 535.104.05             Driver Version: 535.104.05   CUDA Version: 12.2     |\n",
            "|-----------------------------------------+----------------------+----------------------+\n",
            "| GPU  Name                 Persistence-M | Bus-Id        Disp.A | Volatile Uncorr. ECC |\n",
            "| Fan  Temp   Perf          Pwr:Usage/Cap |         Memory-Usage | GPU-Util  Compute M. |\n",
            "|                                         |                      |               MIG M. |\n",
            "|=========================================+======================+======================|\n",
            "|   0  NVIDIA A100-SXM4-40GB          Off | 00000000:00:04.0 Off |                    0 |\n",
            "| N/A   31C    P0              41W / 350W |      2MiB / 40960MiB |      0%      Default |\n",
            "|                                         |                      |             Disabled |\n",
            "+-----------------------------------------+----------------------+----------------------+\n",
            "                                                                                         \n",
            "+---------------------------------------------------------------------------------------+\n",
            "| Processes:                                                                            |\n",
            "|  GPU   GI   CI        PID   Type   Process name                            GPU Memory |\n",
            "|        ID   ID                                                             Usage      |\n",
            "|=======================================================================================|\n",
            "|  No running processes found                                                           |\n",
            "+---------------------------------------------------------------------------------------+\n"
          ]
        }
      ],
      "source": [
        "!nvidia-smi"
      ]
    },
    {
      "cell_type": "code",
      "execution_count": null,
      "id": "4c64f0b0-c636-42e0-bc95-c67c8bb33c5a",
      "metadata": {
        "id": "4c64f0b0-c636-42e0-bc95-c67c8bb33c5a"
      },
      "outputs": [],
      "source": [
        "import quantecon as qe\n",
        "import matplotlib.pyplot as plt\n",
        "import numpy as np\n",
        "import jax\n",
        "import jax.numpy as jnp\n",
        "# import empirical_ccdf as eccdf\n",
        "# import tail_estimate as te\n",
        "\n",
        "from numba import prange, njit, jit"
      ]
    },
    {
      "cell_type": "code",
      "execution_count": null,
      "id": "d1437cb4-9ccf-44d5-be97-ecd10b5280b8",
      "metadata": {
        "id": "d1437cb4-9ccf-44d5-be97-ecd10b5280b8"
      },
      "outputs": [],
      "source": [
        "jax.config.update(\"jax_enable_x64\", True)"
      ]
    },
    {
      "cell_type": "markdown",
      "id": "e1efea4e-e94a-404a-ba95-b45e39c5a37b",
      "metadata": {
        "id": "e1efea4e-e94a-404a-ba95-b45e39c5a37b"
      },
      "source": [
        "## 1 Find the policy function: optimal consumption rule"
      ]
    },
    {
      "cell_type": "markdown",
      "id": "c46f6ea6-6aa7-487c-908d-36e3b9153dc0",
      "metadata": {
        "id": "c46f6ea6-6aa7-487c-908d-36e3b9153dc0"
      },
      "source": [
        "Consider a single agent solves an aiyagari model with the following constraint\n",
        "$$\n",
        "a_{t+1} = R_{t+1} (a_t - c_t) + Y_{t+1}\n",
        "$$\n",
        "where\n",
        "- $R_t := R (Z_t, \\zeta_t)$ and $R(Z, \\zeta): = \\exp (a_r \\zeta + b_r Z + c_r)$\n",
        "- $Y_t := Y (Z_t, \\eta_t)$ and $Y(Z, \\eta): = \\exp (a_y \\eta + b_y Z + c_y )$\n",
        "<!-- - $\\beta_t := \\beta (Z_t, \\epsilon_t)$ and $\\beta(Z, \\zeta): = \\exp (a_{\\beta} \\epsilon + b_{\\beta} Z + c_r )$  (ignore this for now and add this to the next setting) -->\n",
        "\n",
        "In the following we assume $b_r=0$ unless stated."
      ]
    },
    {
      "cell_type": "markdown",
      "id": "1ebc4a82-75ff-46f3-9476-8ed0d1762cac",
      "metadata": {
        "id": "1ebc4a82-75ff-46f3-9476-8ed0d1762cac"
      },
      "source": [
        "### 1-1 basics\n",
        "\n",
        "#### jax"
      ]
    },
    {
      "cell_type": "code",
      "execution_count": null,
      "id": "4c04360c-aaf6-4fd7-b5e3-bb1e0df49802",
      "metadata": {
        "id": "4c04360c-aaf6-4fd7-b5e3-bb1e0df49802"
      },
      "outputs": [],
      "source": [
        "def ifp(β=0.99,             # discount factor\n",
        "        γ=1.5,              # CRRA preference parameter\n",
        "        s_max=16,           # savings grid max\n",
        "        s_size=200,         # savings grid size\n",
        "        ρ=0.99,             # aggregate shock persistence\n",
        "        ν=0.01,             # aggregate shock volatility\n",
        "        a_r=0.1,            # para for idiosyn shock in R\n",
        "        b_r=0.0,            # para for agg shock in R\n",
        "        c_r=0.0,            # location para in R\n",
        "        a_y=0.2,            # para for idiosyn shock in Y\n",
        "        b_y=0.5,            # para for agg shock in Y\n",
        "        c_y=0.1,            # location para in Y\n",
        "        zshock_size=2,      # the number of agg shock states\n",
        "        ishock_size=50,     # size for idiosyn shocks\n",
        "        seed=234234,        # seed for PRNG state\n",
        "        T=1_000_000):       # simulation length\n",
        "\n",
        "    # Set the key (explicit PRNG state)\n",
        "    key = jax.random.PRNGKey(seed)     # to be passed to JAX random functions\n",
        "\n",
        "    # Create exo shock Markov chain\n",
        "    mc = qe.tauchen(zshock_size, ρ, ν)\n",
        "    z_grid, P = jnp.exp(mc.state_values), mc.P\n",
        "\n",
        "    # Create arrays\n",
        "    s_grid = jnp.exp(jnp.linspace(0, s_max, s_size))\n",
        "    ζ_draws = jax.random.normal(key=key, shape=[ishock_size])\n",
        "    η_draws = jax.random.normal(key=key, shape=[ishock_size])\n",
        "\n",
        "    # Shift to JAX arrays\n",
        "    P, z_grid = jax.device_put((P, z_grid))\n",
        "\n",
        "    # require R β < 1 for convergence\n",
        "    if b_r == 0:\n",
        "        ER = jnp.exp(a_r**2 / 2 + c_r)\n",
        "    assert ER * β < 1, \"Stability condition failed.\"\n",
        "\n",
        "    # Pack and return\n",
        "    constants = β, γ, T, a_r, b_r, c_r, a_y, b_y, c_y\n",
        "    sizes = s_size, zshock_size, ishock_size\n",
        "    arrays = s_grid, z_grid, P, ζ_draws, η_draws\n",
        "\n",
        "    return constants, sizes, arrays"
      ]
    },
    {
      "cell_type": "code",
      "execution_count": null,
      "id": "dd15107f-125b-443f-aaa5-9ef01b92d49a",
      "metadata": {
        "id": "dd15107f-125b-443f-aaa5-9ef01b92d49a"
      },
      "outputs": [],
      "source": [
        "def K_egm(a_in, σ_in, constants, sizes, arrays):\n",
        "    \"\"\"\n",
        "    The vectorized operator K using EGM.\n",
        "\n",
        "    \"\"\"\n",
        "\n",
        "    # Unpack\n",
        "    β, γ, T, a_r, b_r, c_r, a_y, b_y, c_y = constants\n",
        "    s_size, zshock_size, ishock_size = sizes\n",
        "    s_grid, z_grid, P, ζ_draws, η_draws = arrays\n",
        "\n",
        "    def u_prime(c):\n",
        "        return c**(-γ)\n",
        "\n",
        "    def u_prime_inv(u):\n",
        "            return u**(-1/γ)\n",
        "\n",
        "    def R(z, ζ):\n",
        "        return jnp.exp(a_r * ζ + b_r * z + c_r)\n",
        "\n",
        "    def Y(z, η):\n",
        "        return jnp.exp(a_y * η + b_y * z + c_y)\n",
        "\n",
        "    # Linearly interpolate σ(a, z)\n",
        "    def σ(a, z):\n",
        "        return jnp.interp(a, a_in[:, z], σ_in[:, z])\n",
        "    σ_vec = jnp.vectorize(σ)\n",
        "\n",
        "    # Broadcast and vectorize\n",
        "    z_hat = jnp.reshape(z_grid, (1, 1, 1, zshock_size, 1))\n",
        "    z_hat_idx = jnp.reshape(jnp.arange(zshock_size), (1, 1, 1, 1, zshock_size))\n",
        "    ζ_draws = jnp.reshape(ζ_draws, (1, ishock_size, 1, 1, 1))\n",
        "    η_draws = jnp.reshape(η_draws, (1, 1, ishock_size, 1, 1))\n",
        "    s = jnp.reshape(s_grid, (s_size, 1, 1, 1, 1))\n",
        "    P = jnp.reshape(P, (1, 1, 1, zshock_size, zshock_size))\n",
        "\n",
        "    # Evaluate consumption choice\n",
        "    R_hat = R(z_hat_idx, ζ_draws)\n",
        "    y_hat = Y(z_hat_idx, η_draws)\n",
        "    a_next = R_hat * s + y_hat\n",
        "    σ_next = σ_vec(a_next, z_hat_idx)\n",
        "    up = u_prime(σ_next)\n",
        "    E = jnp.sum(up * P, axis=[1, 2, 4])\n",
        "    E = E / (ishock_size**2)\n",
        "    c = u_prime_inv(β * E)\n",
        "\n",
        "    # Set up a column vector with zero in the first row and ones elsewhere\n",
        "    e_0 = jnp.ones(s_size) - jnp.identity(s_size)[:, 0]\n",
        "    e_0 = jnp.reshape(e_0, (s_size, 1))\n",
        "\n",
        "    # The policy is computed consumption with the first row set to zero\n",
        "    σ_out = c * e_0\n",
        "\n",
        "    # Compute a_out by a = s + c\n",
        "    a_out = np.reshape(s_grid, (s_size, 1)) + σ_out\n",
        "\n",
        "    return a_out, σ_out"
      ]
    },
    {
      "cell_type": "code",
      "execution_count": null,
      "id": "1299e7a9-b1bd-4f44-9d5b-a7d73aaf52e3",
      "metadata": {
        "id": "1299e7a9-b1bd-4f44-9d5b-a7d73aaf52e3"
      },
      "outputs": [],
      "source": [
        "K_egm_jax = jax.jit(K_egm, static_argnums=(3,))"
      ]
    },
    {
      "cell_type": "code",
      "execution_count": null,
      "id": "505f1368-5e10-4def-a0d1-55141413c11b",
      "metadata": {
        "id": "505f1368-5e10-4def-a0d1-55141413c11b"
      },
      "outputs": [],
      "source": [
        "def successive_approx_jax(model,\n",
        "                          tol=1e-5,\n",
        "                          max_iter=100_000,\n",
        "                          verbose=True,\n",
        "                          print_skip=25):\n",
        "\n",
        "    # Unpack\n",
        "    constants, sizes, arrays = model\n",
        "    β, γ, T, a_r, b_r, c_r, a_y, b_y, c_y = constants\n",
        "    s_size, zshock_size, ishock_size = sizes\n",
        "    s_grid, z_grid, P, ζ_draws, η_draws = arrays\n",
        "\n",
        "    # Initial condition is to consume all in every state\n",
        "    σ_init = jnp.repeat(s_grid, zshock_size)\n",
        "    σ_init = jnp.reshape(σ_init, (s_size, zshock_size))\n",
        "    a_init = jnp.copy(σ_init)\n",
        "    a_vec, σ_vec = a_init, σ_init\n",
        "\n",
        "    i = 0\n",
        "    error = tol + 1\n",
        "\n",
        "    while i < max_iter and error > tol:\n",
        "        a_new, σ_new = K_egm_jax(a_vec, σ_vec, constants, sizes, arrays)\n",
        "        error = jnp.max(jnp.abs(σ_vec - σ_new))\n",
        "        i += 1\n",
        "        if verbose and i % print_skip == 0:\n",
        "            print(f\"Error at iteration {i} is {error}.\")\n",
        "        a_vec, σ_vec = jnp.copy(a_new), jnp.copy(σ_new)\n",
        "\n",
        "    if error > tol:\n",
        "        print(\"Failed to converge!\")\n",
        "    else:\n",
        "        print(f\"\\nConverged in {i} iterations.\")\n",
        "\n",
        "    return a_new, σ_new"
      ]
    },
    {
      "cell_type": "markdown",
      "id": "26520e92-10b5-4dd9-98df-e6538b0a30bd",
      "metadata": {
        "id": "26520e92-10b5-4dd9-98df-e6538b0a30bd"
      },
      "source": [
        "#### numba"
      ]
    },
    {
      "cell_type": "code",
      "execution_count": null,
      "id": "347dd354-fe4d-495e-b711-246f6a802efc",
      "metadata": {
        "id": "347dd354-fe4d-495e-b711-246f6a802efc"
      },
      "outputs": [],
      "source": [
        "# from interpolation import interp\n",
        "import numba"
      ]
    },
    {
      "cell_type": "code",
      "execution_count": null,
      "id": "57541c2d-c590-4bb9-9d4a-44936f7fb6fb",
      "metadata": {
        "colab": {
          "base_uri": "https://localhost:8080/"
        },
        "id": "57541c2d-c590-4bb9-9d4a-44936f7fb6fb",
        "outputId": "dd386e18-18e5-468a-cbac-e5c86fb859ad"
      },
      "outputs": [
        {
          "output_type": "stream",
          "name": "stderr",
          "text": [
            "<ipython-input-10-057499fcfc08>:2: NumbaDeprecationWarning: The 'nopython' keyword argument was not supplied to the 'numba.jit' decorator. The implicit default value for this argument is currently False, but it will be changed to True in Numba 0.59.0. See https://numba.readthedocs.io/en/stable/reference/deprecation.html#deprecation-of-object-mode-fall-back-behaviour-when-using-jit for details.\n",
            "  def K_egm_nb(a_in, σ_in, constants, sizes, arrays):\n"
          ]
        }
      ],
      "source": [
        "@numba.jit\n",
        "def K_egm_nb(a_in, σ_in, constants, sizes, arrays):\n",
        "    \"\"\"\n",
        "    The Coleman--Reffett operator for the income fluctuation problem,\n",
        "    using the endogenous grid method.\n",
        "\n",
        "        * ifp is an instance of IFP\n",
        "        * a_in[i, z] is an asset grid\n",
        "        * σ_in[i, z] is consumption at a_in[i, z]\n",
        "    \"\"\"\n",
        "\n",
        "    # Unpack\n",
        "    β, γ, T, a_r, b_r, c_r, a_y, b_y, c_y = constants\n",
        "    s_size, zshock_size, ishock_size = sizes\n",
        "    s_grid, z_grid, P, ζ_draws, η_draws = arrays\n",
        "\n",
        "    def u_prime(c):\n",
        "        return c**(-γ)\n",
        "\n",
        "    def u_prime_inv(u):\n",
        "            return u**(-1/γ)\n",
        "\n",
        "    def R(z, ζ):\n",
        "        return np.exp(a_r * ζ + b_r * z + c_r)\n",
        "\n",
        "    def Y(z, η):\n",
        "        return np.exp(a_y * η + b_y * z + c_y)\n",
        "\n",
        "    # Create consumption function by linear interpolation\n",
        "    σ = lambda a, z: np.interp(a, a_in[:, z], σ_in[:, z])\n",
        "\n",
        "    # Allocate memory\n",
        "    σ_out = np.empty_like(σ_in)\n",
        "    a_out = np.zeros_like(σ_out)\n",
        "\n",
        "    # Obtain c_i at each s_i, z, store in σ_out[i, z], computing\n",
        "    # the expectation term by Monte Carlo\n",
        "    for i, s in enumerate(s_grid[1:]):\n",
        "        i += 1\n",
        "        for z in range(zshock_size):\n",
        "            # Compute expectation\n",
        "            Ez = 0.0\n",
        "            for z_hat in range(zshock_size):\n",
        "                for η in η_draws:\n",
        "                    for ζ in ζ_draws:\n",
        "                        R_hat = R(z_hat, ζ)\n",
        "                        Y_hat = Y(z_hat, η)\n",
        "                        U = u_prime(σ(R_hat * s + Y_hat, z_hat))\n",
        "                        Ez += R_hat * U * P[z, z_hat]\n",
        "\n",
        "            Ez = Ez / (ishock_size**2)\n",
        "            c = u_prime_inv(β * Ez)\n",
        "            σ_out[i, z] = c\n",
        "            a_out[i, z] = s + c\n",
        "\n",
        "    # Fixing a consumption-asset pair at (0, 0) improves interpolation\n",
        "    σ_out[0, :] = 0\n",
        "    a_out[0, :] = 0\n",
        "\n",
        "    return a_out, σ_out"
      ]
    },
    {
      "cell_type": "code",
      "execution_count": null,
      "id": "7bbfe4d9-bca4-4b44-8272-3c1582fb4c9f",
      "metadata": {
        "id": "7bbfe4d9-bca4-4b44-8272-3c1582fb4c9f"
      },
      "outputs": [],
      "source": [
        "def successive_approx_numba(model,        # Class with model information\n",
        "                            tol=1e-4,\n",
        "                            max_iter=1000,\n",
        "                            verbose=True,\n",
        "                            print_skip=25):\n",
        "    # Unpack\n",
        "    constants, sizes, arrays = model\n",
        "\n",
        "    # make NumPy versions of arrays\n",
        "    arrays = tuple(map(np.array, arrays))\n",
        "\n",
        "    # Unpack again\n",
        "    s_grid, z_grid, P, ζ_draws, η_draws = arrays\n",
        "    s_size, zshock_size, ishock_size = sizes\n",
        "\n",
        "    # Initial condition is to consume all in every state\n",
        "    σ_init = np.repeat(s_grid, zshock_size)\n",
        "    σ_init = np.reshape(σ_init, (s_size, zshock_size))\n",
        "    a_init = np.copy(σ_init)\n",
        "    a_vec, σ_vec = a_init, σ_init\n",
        "\n",
        "    # Set up loop\n",
        "    i = 0\n",
        "    error = tol + 1\n",
        "\n",
        "    while i < max_iter and error > tol:\n",
        "        a_new, σ_new = K_egm_nb(a_vec, σ_vec, constants, sizes, arrays)\n",
        "        error = np.max(np.abs(σ_vec - σ_new))\n",
        "        i += 1\n",
        "        if verbose and i % print_skip == 0:\n",
        "            print(f\"Error at iteration {i} is {error}.\")\n",
        "        a_vec, σ_vec = np.copy(a_new), np.copy(σ_new)\n",
        "\n",
        "    if error > tol:\n",
        "        print(\"Failed to converge!\")\n",
        "    elif verbose:\n",
        "        print(f\"\\nConverged in {i} iterations.\")\n",
        "\n",
        "    return a_new, σ_new"
      ]
    },
    {
      "cell_type": "markdown",
      "id": "166fd1cb-0bb5-4ac0-a91b-d82eff6d0798",
      "metadata": {
        "id": "166fd1cb-0bb5-4ac0-a91b-d82eff6d0798"
      },
      "source": [
        "### sanity check"
      ]
    },
    {
      "cell_type": "code",
      "execution_count": null,
      "id": "771aac03-9451-4062-b7e4-bf4fb76023dd",
      "metadata": {
        "id": "771aac03-9451-4062-b7e4-bf4fb76023dd"
      },
      "outputs": [],
      "source": [
        "model = ifp(s_max=3, zshock_size=3)"
      ]
    },
    {
      "cell_type": "code",
      "execution_count": null,
      "id": "1b21e83d-e176-4fd7-848f-9bbf9492c4b9",
      "metadata": {
        "colab": {
          "base_uri": "https://localhost:8080/"
        },
        "id": "1b21e83d-e176-4fd7-848f-9bbf9492c4b9",
        "outputId": "2d324285-c4af-4d28-969c-4f907da1ed25"
      },
      "outputs": [
        {
          "output_type": "stream",
          "name": "stdout",
          "text": [
            "Error at iteration 25 is 0.02581568201602602.\n",
            "Error at iteration 50 is 0.0021818162138094177.\n",
            "Error at iteration 75 is 0.00013306944630619988.\n",
            "\n",
            "Converged in 78 iterations.\n",
            "TOC: Elapsed: 0:00:1.36\n"
          ]
        },
        {
          "output_type": "execute_result",
          "data": {
            "text/plain": [
              "1.368927240371704"
            ]
          },
          "metadata": {},
          "execution_count": 13
        }
      ],
      "source": [
        "qe.tic()\n",
        "a_star_egm_jax, σ_star_egm_jax = successive_approx_jax(model, tol=1e-4, print_skip=25)\n",
        "qe.toc()"
      ]
    },
    {
      "cell_type": "code",
      "execution_count": null,
      "id": "a4cccb98-ad81-4d56-bafc-d9875e5a9b90",
      "metadata": {
        "id": "a4cccb98-ad81-4d56-bafc-d9875e5a9b90"
      },
      "outputs": [],
      "source": [
        "# qe.tic()\n",
        "# a_star_egm_nb, σ_star_egm_nb = successive_approx_numba(model, tol=1e-4, print_skip=25)\n",
        "# qe.toc()"
      ]
    },
    {
      "cell_type": "code",
      "execution_count": null,
      "id": "4107fc31-da90-4b13-93e4-d1150dd6ab89",
      "metadata": {
        "id": "4107fc31-da90-4b13-93e4-d1150dd6ab89"
      },
      "outputs": [],
      "source": [
        "# constants, sizes, arrays = model\n",
        "# s_size, zshock_size, ishock_size = sizes\n",
        "\n",
        "# fig, ax = plt.subplots()\n",
        "\n",
        "# for z in (0, zshock_size-1):\n",
        "#     ax.plot(a_star_egm_nb[:, z],\n",
        "#             σ_star_egm_nb[:, z],\n",
        "#             '--', lw=2,\n",
        "#             label=f\"Numba EGM: consumption when $z={z}$\")\n",
        "#     ax.plot(a_star_egm_jax[:, z],\n",
        "#             σ_star_egm_jax[:, z],\n",
        "#             label=f\"JAX EGM: consumption when $z={z}$\")\n",
        "\n",
        "# ax.set_xlabel('asset')\n",
        "# plt.legend()\n",
        "# plt.show()"
      ]
    },
    {
      "cell_type": "markdown",
      "id": "12e888be-65c0-4689-ab79-ed0df0d05341",
      "metadata": {
        "id": "12e888be-65c0-4689-ab79-ed0df0d05341"
      },
      "source": [
        "### Simulation"
      ]
    },
    {
      "cell_type": "code",
      "execution_count": null,
      "id": "98b00abc-1f2a-4444-8c7a-f2fb1b58f1ca",
      "metadata": {
        "id": "98b00abc-1f2a-4444-8c7a-f2fb1b58f1ca"
      },
      "outputs": [],
      "source": [
        "def update_wealth_jax(array, stars, model, size, rand_key):\n",
        "\n",
        "    # Unpack\n",
        "    w, zp, = array\n",
        "    a_star, σ_star, = stars\n",
        "\n",
        "    constants, sizes, arrays = model\n",
        "    β, γ, T, a_r, b_r, c_r, a_y, b_y, c_y = constants\n",
        "    s_size, zshock_size, ishock_size = sizes\n",
        "    s_grid, z_grid, P, ζ_draws, η_draws = arrays\n",
        "\n",
        "    rand_key, *subkey = jax.random.split(rand_key, 3)\n",
        "\n",
        "    # # think about removing these functions outside of the function\n",
        "    # def Z(z, ϵ):\n",
        "    #     return ρ * z + ϵ * ν\n",
        "\n",
        "    def R(z, ζ):\n",
        "        return jnp.exp(a_r * ζ + b_r * z + c_r)\n",
        "\n",
        "    def Y(z, η):\n",
        "        return jnp.exp(a_y * η + b_y * z + c_y)\n",
        "\n",
        "    # Linearly interpolate σ(a, z)\n",
        "    def σ(a, z):\n",
        "      return jnp.interp(a, a_star[:, z], σ_star[:, z], right='extrapolate')\n",
        "    σ_vec = jnp.vectorize(σ)\n",
        "\n",
        "    # Update w\n",
        "    η_hat = jax.random.normal(subkey[0], shape=size)\n",
        "    ζ_hat = jax.random.normal(subkey[1], shape=size)\n",
        "    Y_hat = Y(zp, η_hat)\n",
        "    R_hat = R(zp, ζ_hat)\n",
        "    cp = σ_vec(w, zp)\n",
        "    wp = R_hat * (w - cp) + Y_hat\n",
        "\n",
        "    return wp, cp"
      ]
    },
    {
      "cell_type": "code",
      "execution_count": null,
      "id": "d34b9533-8312-4566-be70-2d1ce855583c",
      "metadata": {
        "id": "d34b9533-8312-4566-be70-2d1ce855583c"
      },
      "outputs": [],
      "source": [
        "def wealth_time_series_for_loop(w_0, T, stars, model, size, rand_seed=12345):\n",
        "\n",
        "    a_star, σ_star, = stars\n",
        "\n",
        "    constants, sizes, arrays = model\n",
        "    s_grid, z_grid, P, ζ_draws, η_draws = arrays\n",
        "\n",
        "\n",
        "    rand_key = jax.random.PRNGKey(rand_seed)\n",
        "    rand_key, *subkey = jax.random.split(rand_key, T)\n",
        "\n",
        "    w_0 = jax.device_put(w_0).reshape(size)\n",
        "\n",
        "    # Initialise a z\n",
        "    mc = qe.MarkovChain(P)\n",
        "    z_seq = mc.simulate(T, num_reps=size[0], random_state=rand_seed)\n",
        "\n",
        "    # w = [w_0]\n",
        "    # c = []\n",
        "    w = w_0\n",
        "    for t in range(T-1):\n",
        "        # print(t)\n",
        "        zs = z_seq[:, t+1]\n",
        "        w, c = update_wealth_jax((w, zs), (a_star, σ_star), model, size, subkey[t])\n",
        "        # w.append(w_)\n",
        "        # c.append(c_)\n",
        "    return jnp.array(w), jnp.array(c)"
      ]
    },
    {
      "cell_type": "code",
      "execution_count": null,
      "id": "ARw4dGejNKlQ",
      "metadata": {
        "id": "ARw4dGejNKlQ"
      },
      "outputs": [],
      "source": [
        "wealth_time_series_for_loop_jax = jax.jit(wealth_time_series_for_loop, static_argnums=(1, 3, ))"
      ]
    },
    {
      "cell_type": "code",
      "execution_count": null,
      "id": "4203a1c6-59d0-4ef3-be6d-a43610e4cb00",
      "metadata": {
        "id": "4203a1c6-59d0-4ef3-be6d-a43610e4cb00"
      },
      "outputs": [],
      "source": [
        "def update_cross_section(w_dist, T, stars, model, size, seed=2):\n",
        "    new_wdist, new_cdist = wealth_time_series_for_loop(w_dist, T, stars, model, size, seed)\n",
        "    return new_wdist, new_cdist"
      ]
    },
    {
      "cell_type": "code",
      "execution_count": null,
      "id": "cfeec5a4-1cf5-4e60-aa26-9c3525b2f51c",
      "metadata": {
        "id": "cfeec5a4-1cf5-4e60-aa26-9c3525b2f51c"
      },
      "outputs": [],
      "source": [
        "update_cross_section_jax = jax.jit(update_cross_section, static_argnums=(1, 2, 3, ))"
      ]
    },
    {
      "cell_type": "code",
      "execution_count": null,
      "id": "qUM8-3JUpTaA",
      "metadata": {
        "id": "qUM8-3JUpTaA"
      },
      "outputs": [],
      "source": [
        "def rank_size(data, c=1):\n",
        "    w = -jnp.sort(-data)                  # Reverse sort\n",
        "    w = w[:int(len(w) * c)]               # extract top (c * 100)%\n",
        "    rank_data = jnp.arange(len(w)) + 1\n",
        "    size_data = w\n",
        "    return rank_data, size_data"
      ]
    },
    {
      "cell_type": "code",
      "execution_count": null,
      "id": "-OWBmmHqlNjU",
      "metadata": {
        "id": "-OWBmmHqlNjU"
      },
      "outputs": [],
      "source": [
        "def plots(star, fraction=0.001, slabel='wealth'):\n",
        "\n",
        "  fig, ax = plt.subplots()\n",
        "\n",
        "  rank_data, size_data = rank_size(star, c=fraction)\n",
        "  ax.loglog(rank_data, size_data, 'o', markersize=3.0, alpha=0.5, label=slabel)\n",
        "\n",
        "  ax.set_xlabel(\"log rank\")\n",
        "  ax.set_ylabel(\"log size\")\n",
        "  plt.legend()\n",
        "  plt.show()"
      ]
    },
    {
      "cell_type": "code",
      "execution_count": null,
      "id": "avbxOUMbrSAc",
      "metadata": {
        "id": "avbxOUMbrSAc"
      },
      "outputs": [],
      "source": [
        "def plotd(ψ_star, c_star, fraction=0.001):\n",
        "\n",
        "  fig, ax = plt.subplots()\n",
        "\n",
        "  wrank_data, wsize_data = rank_size(ψ_star, c=fraction)\n",
        "  ax.loglog(wrank_data, wsize_data, 'o', markersize=3.0, alpha=0.5, label='wealth')\n",
        "\n",
        "  crank_data, csize_data = rank_size(c_star, c=fraction)\n",
        "  ax.loglog(crank_data, csize_data, 'o', markersize=3.0, alpha=0.5, label='consumption')\n",
        "\n",
        "\n",
        "  ax.set_xlabel(\"log rank\")\n",
        "  ax.set_ylabel(\"log size\")\n",
        "  plt.legend()\n",
        "  plt.show()"
      ]
    },
    {
      "cell_type": "code",
      "execution_count": null,
      "id": "vG47zl3SsIOt",
      "metadata": {
        "colab": {
          "base_uri": "https://localhost:8080/"
        },
        "id": "vG47zl3SsIOt",
        "outputId": "801c6964-10b8-4336-be92-40aaecac62df"
      },
      "outputs": [
        {
          "output_type": "stream",
          "name": "stdout",
          "text": [
            "Error at iteration 100 is 202.34266776396635.\n",
            "Error at iteration 200 is 2.369849161346764.\n",
            "Error at iteration 300 is 0.06247361562710729.\n",
            "Error at iteration 400 is 0.0008754674136532969.\n",
            "\n",
            "Converged in 440 iterations.\n",
            "TOC: Elapsed: 0:00:1.69\n"
          ]
        },
        {
          "output_type": "execute_result",
          "data": {
            "text/plain": [
              "1.6927785873413086"
            ]
          },
          "metadata": {},
          "execution_count": 26
        }
      ],
      "source": [
        "model = ifp(s_max=16, s_size=100, ρ=0.5, ν=0.05, zshock_size=3, T=10)\n",
        "qe.tic()\n",
        "a_star_s, σ_star_s = successive_approx_jax(model, tol=1e-4, print_skip=100)\n",
        "qe.toc()"
      ]
    },
    {
      "cell_type": "code",
      "execution_count": null,
      "id": "pql6KoPs4xys",
      "metadata": {
        "id": "pql6KoPs4xys"
      },
      "outputs": [],
      "source": [
        "T = 500\n",
        "stars = (a_star_s, σ_star_s, )\n",
        "num_households = 10_000_000\n",
        "size = (num_households, )\n",
        "constants, sizes, arrays = model\n",
        "s_grid, z_grid, P, ζ_draws, η_draws = arrays\n",
        "w_0 = s_grid.mean() / len(s_grid)\n",
        "ψ_0 = jnp.full(size, w_0)"
      ]
    },
    {
      "cell_type": "code",
      "execution_count": null,
      "id": "6_vclEbsJNpp",
      "metadata": {
        "id": "6_vclEbsJNpp"
      },
      "outputs": [],
      "source": [
        "# %%time\n",
        "# ψ_star, c_star = wealth_time_series_for_loop(ψ_0, T, stars, model, size, rand_seed=12345)"
      ]
    },
    {
      "cell_type": "code",
      "execution_count": null,
      "id": "65OxHc7PIdSI",
      "metadata": {
        "id": "65OxHc7PIdSI"
      },
      "outputs": [],
      "source": [
        "# ψ_star, c_star = update_cross_section(ψ_0, T, stars, model, size)"
      ]
    },
    {
      "cell_type": "markdown",
      "id": "XgC7P1lTsNow",
      "metadata": {
        "id": "XgC7P1lTsNow"
      },
      "source": [
        "### estimating\n",
        "\n",
        "Import some functions to estimate the tail index."
      ]
    },
    {
      "cell_type": "code",
      "execution_count": null,
      "id": "KWKuv9WCsJKv",
      "metadata": {
        "colab": {
          "base_uri": "https://localhost:8080/"
        },
        "id": "KWKuv9WCsJKv",
        "outputId": "da6b1e41-d380-4a21-cb5b-117103378f70"
      },
      "outputs": [
        {
          "output_type": "stream",
          "name": "stderr",
          "text": [
            "<ipython-input-30-e32398ab4e95>:59: NumbaDeprecationWarning: The 'nopython' keyword argument was not supplied to the 'numba.jit' decorator. The implicit default value for this argument is currently False, but it will be changed to True in Numba 0.59.0. See https://numba.readthedocs.io/en/stable/reference/deprecation.html#deprecation-of-object-mode-fall-back-behaviour-when-using-jit for details.\n",
            "  def jit_plfit_cts(x):\n",
            "<ipython-input-30-e32398ab4e95>:106: NumbaDeprecationWarning: The 'nopython' keyword argument was not supplied to the 'numba.jit' decorator. The implicit default value for this argument is currently False, but it will be changed to True in Numba 0.59.0. See https://numba.readthedocs.io/en/stable/reference/deprecation.html#deprecation-of-object-mode-fall-back-behaviour-when-using-jit for details.\n",
            "  def _simulation(N, ny, y, pz, alpha, xmin, Bt):\n",
            "<ipython-input-30-e32398ab4e95>:135: NumbaDeprecationWarning: The 'nopython' keyword argument was not supplied to the 'numba.jit' decorator. The implicit default value for this argument is currently False, but it will be changed to True in Numba 0.59.0. See https://numba.readthedocs.io/en/stable/reference/deprecation.html#deprecation-of-object-mode-fall-back-behaviour-when-using-jit for details.\n",
            "  def jit_plpva_cts(x, xmin, Bt=500):\n"
          ]
        }
      ],
      "source": [
        "def empirical_ccdf(data,\n",
        "                   ax,\n",
        "                   aw=None,   # weights\n",
        "                   label=None,\n",
        "                   xlabel=None,\n",
        "                   add_reg_line=False,\n",
        "                   title=None):\n",
        "    \"\"\"\n",
        "    Take data vector and return prob values for plotting.\n",
        "    Upgraded empirical_ccdf\n",
        "    \"\"\"\n",
        "    y_vals = np.empty_like(data, dtype='float64')\n",
        "    p_vals = np.empty_like(data, dtype='float64')\n",
        "    n = len(data)\n",
        "    if aw is None:\n",
        "        for i, d in enumerate(data):\n",
        "            # record fraction of sample above d\n",
        "            y_vals[i] = np.sum(data >= d) / n\n",
        "            p_vals[i] = np.sum(data == d) / n\n",
        "    else:\n",
        "        fw = np.empty_like(aw, dtype='float64')\n",
        "        for i, a in enumerate(aw):\n",
        "            fw[i] = a / np.sum(aw)\n",
        "        pdf = lambda x: np.interp(x, data, fw)\n",
        "        data = np.sort(data)\n",
        "        j = 0\n",
        "        for i, d in enumerate(data):\n",
        "            j += pdf(d)\n",
        "            y_vals[i] = 1- j\n",
        "\n",
        "    x, y = np.log(data), np.log(y_vals)\n",
        "\n",
        "    results = sm.OLS(y, sm.add_constant(x)).fit()\n",
        "    b, a = results.params\n",
        "\n",
        "    kwargs = [('alpha', 0.3)]\n",
        "    if label:\n",
        "        kwargs.append(('label', label))\n",
        "    kwargs = dict(kwargs)\n",
        "\n",
        "    ax.scatter(x, y, **kwargs)\n",
        "    if add_reg_line:\n",
        "        ax.plot(x, x * a + b, 'k-', alpha=0.6, label=f\"slope = ${a: 1.2f}$\")\n",
        "    if not xlabel:\n",
        "        xlabel='log value'\n",
        "    ax.set_xlabel(xlabel, fontsize=12)\n",
        "    ax.set_ylabel(\"log prob.\", fontsize=12)\n",
        "\n",
        "    if label:\n",
        "        ax.legend(loc='lower left', fontsize=12)\n",
        "\n",
        "    if title:\n",
        "        ax.set_title(title)\n",
        "\n",
        "    return np.log(data), y_vals, p_vals\n",
        "\n",
        "\n",
        "@numba.jit\n",
        "def jit_plfit_cts(x):\n",
        "    \"\"\"\n",
        "    This function\n",
        "\n",
        "        takes x\n",
        "\n",
        "            x is a sequence of real numbers draw from a distribution\n",
        "\n",
        "        implements the maximum likehood estimation to estimate alpha, xmin, L\n",
        "\n",
        "            alpha is the Pareto exponent\n",
        "            xmin is the lower bound for Pareto distribution\n",
        "            L is the maximum likelihood\n",
        "    \"\"\"\n",
        "    x_n = len(x)\n",
        "    xmins = np.unique(x)[:-1]\n",
        "    xm_n = len(xmins)\n",
        "    dat = np.zeros(xm_n)\n",
        "    z = np.sort(x)\n",
        "\n",
        "    for xm in range(xm_n):\n",
        "        xmin = xmins[xm]\n",
        "        z = z[z >= xmin]\n",
        "        n = len(z)\n",
        "        a = n / sum(np.log(z / xmin))\n",
        "\n",
        "        # truncate the search over xmin values\n",
        "        # before the finite-size bias becomes significant\n",
        "        # if nosmall is True:\n",
        "        if (a-1)/np.sqrt(n) > 0.1:\n",
        "            dat = dat[:xm]\n",
        "            xm = len(xmins) + 1\n",
        "            break\n",
        "        cx = np.arange(n) / n\n",
        "        cf = 1 - (xmin/z)**a\n",
        "        dat[xm] = np.max(np.abs(cf - cx))\n",
        "\n",
        "    D = min(dat)\n",
        "    indices = np.where(dat <= D)[0]\n",
        "    xmin = xmins[indices[0]] if indices.size > 0 else None\n",
        "    z = x[x >= xmin]\n",
        "    n = len(z)\n",
        "    alpha = 1 + n / sum(np.log(z/xmin))\n",
        "    L = n * np.log((alpha - 1 ) / xmin) - alpha * np.sum(np.log(z / xmin))\n",
        "    return alpha, xmin, L\n",
        "\n",
        "@numba.jit\n",
        "def _simulation(N, ny, y, pz, alpha, xmin, Bt):\n",
        "    nof = np.zeros(Bt)\n",
        "\n",
        "    for B in prange(Bt):\n",
        "        n1 = np.sum(np.random.rand(N) > pz)\n",
        "        ri = (ny * np.random.rand(n1)).astype(np.int64)\n",
        "        q1 = y[ri]\n",
        "        n2 = N - n1\n",
        "        q2 = xmin * (1 - np.random.rand(n2)) ** (-1 / (alpha - 1))\n",
        "        q = np.sort(np.concatenate((q1, q2)))\n",
        "\n",
        "        qmins = np.unique(q)[:-1]\n",
        "\n",
        "        dat = np.zeros(len(qmins))\n",
        "\n",
        "        for qm in prange(len(qmins)):\n",
        "            qmin = qmins[qm]\n",
        "            zq = q[q >= qmin]\n",
        "            nq = len(zq)\n",
        "            a = nq / np.sum(np.log(zq / qmin))\n",
        "            cq = np.arange(nq) / nq\n",
        "            cf = 1 - (qmin / zq) ** a\n",
        "            dat[qm] = np.max(np.abs(cq - cf))\n",
        "\n",
        "        nof[B] = np.min(dat)\n",
        "\n",
        "    return nof\n",
        "\n",
        "@numba.jit\n",
        "def jit_plpva_cts(x, xmin, Bt=500):\n",
        "    N = len(x)\n",
        "\n",
        "    z = x[x >= xmin]\n",
        "    nz = len(z)\n",
        "    y = x[x < xmin]\n",
        "    ny = len(y)\n",
        "\n",
        "    alpha = 1 + nz / np.sum(np.log(z / xmin))\n",
        "    cz = np.arange(nz) / nz\n",
        "    cf = 1 - (xmin / np.sort(z)) ** (alpha - 1)\n",
        "    gof = np.max(np.abs(cz - cf))\n",
        "    pz = nz / N\n",
        "\n",
        "    nof = _simulation(N, ny, y, pz, alpha, xmin, Bt)\n",
        "\n",
        "    p = np.sum(nof >= gof) / Bt\n",
        "    return p, gof\n",
        "\n",
        "def estimation(x, cutoff, B=500):\n",
        "  x = np.array(x)\n",
        "  x = np.sort(x)\n",
        "  x = x[cutoff:]\n",
        "\n",
        "  x = x[x>0]                         # get rid of negative values\n",
        "  x_norm = x / np.mean(x)            # normalise data with sample mean of 1\n",
        "  # alpha, xmin, L = plfit_cts(x_norm)    # original\n",
        "  # p, gof = plpva_cts(x_norm, xmin, B) # original\n",
        "  alpha, xmin, L = jit_plfit_cts(x_norm.flatten())\n",
        "  p, gof = jit_plpva_cts(x_norm.flatten(), xmin, B)\n",
        "  return (alpha, xmin, L), (p, gof)"
      ]
    },
    {
      "cell_type": "markdown",
      "id": "Rc4PHA7e5Cvt",
      "metadata": {
        "id": "Rc4PHA7e5Cvt"
      },
      "source": [
        "## Benchmark: IID idisyncratic shocks on asset return and no correlated shocks on income"
      ]
    },
    {
      "cell_type": "code",
      "execution_count": null,
      "id": "5Wi5j2FX5R0t",
      "metadata": {
        "colab": {
          "base_uri": "https://localhost:8080/"
        },
        "id": "5Wi5j2FX5R0t",
        "outputId": "8639e423-9d59-4680-ca80-18b7fc2025fa"
      },
      "outputs": [
        {
          "output_type": "stream",
          "name": "stderr",
          "text": [
            "/usr/local/lib/python3.10/dist-packages/quantecon/markov/approximation.py:217: RuntimeWarning: divide by zero encountered in scalar divide\n",
            "  step = (x_max - x_min) / (n - 1)\n"
          ]
        },
        {
          "output_type": "stream",
          "name": "stdout",
          "text": [
            "\n",
            "Converged in 98 iterations.\n",
            "TOC: Elapsed: 0:00:1.12\n"
          ]
        },
        {
          "output_type": "execute_result",
          "data": {
            "text/plain": [
              "1.1264493465423584"
            ]
          },
          "metadata": {},
          "execution_count": 33
        }
      ],
      "source": [
        "model = ifp(β=0.92,             # discount factor\n",
        "            s_max=10,           # savings grid max for the exp\n",
        "            s_size=100,        # size of savings grid\n",
        "            ρ=0.9,             # aggregate shock persistence\n",
        "            ν=1.0,             # aggregate shock volatility\n",
        "            a_r=0.315,            # para for idiosyn shock in R\n",
        "            a_y=0.6,            # para for idiosyn shock in Y\n",
        "            b_y=10.0,            # para for agg shock in Y\n",
        "            c_y=1.0,           # para for location in Y\n",
        "            zshock_size=1)\n",
        "qe.tic()\n",
        "a_star_s, σ_star_s = successive_approx_jax(model, tol=1e-4, max_iter=10_000, print_skip=500)\n",
        "qe.toc()"
      ]
    },
    {
      "cell_type": "code",
      "execution_count": null,
      "id": "6qRJvecdPaO0",
      "metadata": {
        "id": "6qRJvecdPaO0"
      },
      "outputs": [],
      "source": [
        "constants, sizes, arrays = model\n",
        "s_size, zshock_size, ishock_size = sizes\n",
        "β, γ, T, a_r, b_r, c_r, a_y, b_y, c_y = constants\n",
        "s_grid, z_grid, P, ζ_draws, η_draws = arrays\n",
        "z_range = range(zshock_size)\n",
        "a = a_star_s\n",
        "σ = σ_star_s"
      ]
    },
    {
      "cell_type": "code",
      "execution_count": null,
      "id": "IYcsc4vheH3B",
      "metadata": {
        "colab": {
          "base_uri": "https://localhost:8080/",
          "height": 449
        },
        "id": "IYcsc4vheH3B",
        "outputId": "948a856d-ac3f-4fbe-daf7-268b36659860"
      },
      "outputs": [
        {
          "output_type": "display_data",
          "data": {
            "text/plain": [
              "<Figure size 640x480 with 1 Axes>"
            ],
            "image/png": "[encoded data removed]"
          },
          "metadata": {}
        }
      ],
      "source": [
        "fig, ax = plt.subplots()\n",
        "\n",
        "for z in z_range:\n",
        "    ax.plot(a[:, z],\n",
        "            σ[:, z],\n",
        "            label=f\"JAX EGM: consumption when $z={z}$\")\n",
        "\n",
        "# ax.plot(a_star_s[:, 0], a_star_s[:, 0], '--', label=f\"45 degree line\")\n",
        "\n",
        "ax.set_xlabel('asset')\n",
        "plt.legend()\n",
        "plt.show()"
      ]
    },
    {
      "cell_type": "code",
      "execution_count": null,
      "id": "WKJuKl5CS_9I",
      "metadata": {
        "id": "WKJuKl5CS_9I"
      },
      "outputs": [],
      "source": [
        "def R(z, ζ):\n",
        "  return np.exp(a_r * ζ + b_r * z + c_r)\n",
        "\n",
        "def Y(z, η):\n",
        "  return np.exp(a_y * η + b_y * z + c_y)"
      ]
    },
    {
      "cell_type": "code",
      "execution_count": null,
      "id": "e0CcCVchShnU",
      "metadata": {
        "id": "e0CcCVchShnU"
      },
      "outputs": [],
      "source": [
        "# mean labor income across different states\n",
        "Y_mean = [np.mean(Y(z, η_draws)) for z in z_range]\n",
        "# Mean returns\n",
        "R_mean = np.mean(R(z, ζ_draws))"
      ]
    },
    {
      "cell_type": "code",
      "execution_count": null,
      "id": "ic5IEG0TO3rK",
      "metadata": {
        "colab": {
          "base_uri": "https://localhost:8080/",
          "height": 449
        },
        "id": "ic5IEG0TO3rK",
        "outputId": "5f641697-0fcb-4486-d77e-1134ee48220c"
      },
      "outputs": [
        {
          "output_type": "display_data",
          "data": {
            "text/plain": [
              "<Figure size 640x480 with 1 Axes>"
            ],
            "image/png": "[encoded data removed]"
          },
          "metadata": {}
        }
      ],
      "source": [
        "fig, ax = plt.subplots()\n",
        "for z in z_range:\n",
        "    ax.plot(a[:, z], R_mean * (a[:, z] - σ[:, z]) + Y_mean[z] , label=f\"$z={z}$\")\n",
        "\n",
        "ax.plot(a[:, 0], a[:, 0], 'k--')\n",
        "ax.set(xlabel='current assets', ylabel='next period assets')\n",
        "# ax.xlim(0, 100)\n",
        "ax.legend()\n",
        "plt.show()"
      ]
    },
    {
      "cell_type": "code",
      "execution_count": null,
      "id": "jnbctTCQ5BMl",
      "metadata": {
        "id": "jnbctTCQ5BMl"
      },
      "outputs": [],
      "source": [
        "T = 500\n",
        "stars = (a, σ, )\n",
        "num_households = 10_000_000\n",
        "size = (num_households, )\n",
        "constants, sizes, arrays = model\n",
        "s_grid, z_grid, P, ζ_draws, η_draws = arrays\n",
        "w_0 = s_grid.mean() / len(s_grid)\n",
        "ψ_0 = jnp.full(size, w_0)"
      ]
    },
    {
      "cell_type": "code",
      "execution_count": null,
      "id": "1l3wM9IJjWuF",
      "metadata": {
        "colab": {
          "base_uri": "https://localhost:8080/"
        },
        "id": "1l3wM9IJjWuF",
        "outputId": "5706fac6-6d7b-4d17-d63d-ee4e37af5501"
      },
      "outputs": [
        {
          "output_type": "stream",
          "name": "stdout",
          "text": [
            "CPU times: user 4min 32s, sys: 29.4 s, total: 5min 2s\n",
            "Wall time: 4min 59s\n"
          ]
        }
      ],
      "source": [
        "%%time\n",
        "\n",
        "ψ_star, c_star = wealth_time_series_for_loop(ψ_0, T, stars, model, size, rand_seed=772736)"
      ]
    },
    {
      "cell_type": "code",
      "execution_count": null,
      "id": "QYQg5Ncz99CT",
      "metadata": {
        "colab": {
          "base_uri": "https://localhost:8080/"
        },
        "id": "QYQg5Ncz99CT",
        "outputId": "8eba2d92-c88e-4697-b5cd-69a0fd7d3e7f"
      },
      "outputs": [
        {
          "output_type": "execute_result",
          "data": {
            "text/plain": [
              "Array(1.11242121, dtype=float64)"
            ]
          },
          "metadata": {},
          "execution_count": 41
        }
      ],
      "source": [
        "np.min(ψ_star)"
      ]
    },
    {
      "cell_type": "code",
      "execution_count": null,
      "id": "aBZmzwXS6OcQ",
      "metadata": {
        "colab": {
          "base_uri": "https://localhost:8080/",
          "height": 454
        },
        "id": "aBZmzwXS6OcQ",
        "outputId": "eeb74e5c-3031-45aa-ba35-c8ca8694b64c"
      },
      "outputs": [
        {
          "output_type": "display_data",
          "data": {
            "text/plain": [
              "<Figure size 640x480 with 1 Axes>"
            ],
            "image/png": "[encoded data removed]"
          },
          "metadata": {}
        }
      ],
      "source": [
        "plotd(ψ_star, c_star, fraction=0.1)"
      ]
    },
    {
      "cell_type": "markdown",
      "id": "FAlWffJGIuuC",
      "metadata": {
        "id": "FAlWffJGIuuC"
      },
      "source": [
        "Change the interpolation method."
      ]
    },
    {
      "cell_type": "code",
      "execution_count": null,
      "id": "QM-ETDLsVvEm",
      "metadata": {
        "colab": {
          "base_uri": "https://localhost:8080/",
          "height": 454
        },
        "id": "QM-ETDLsVvEm",
        "outputId": "cc937e11-e9f9-4d2b-808d-0a7f7db21a3e"
      },
      "outputs": [
        {
          "output_type": "display_data",
          "data": {
            "text/plain": [
              "<Figure size 640x480 with 1 Axes>"
            ],
            "image/png": "[encoded data removed]"
          },
          "metadata": {}
        }
      ],
      "source": [
        "plots(c_star, fraction=0.1, slabel='consumption')"
      ]
    },
    {
      "cell_type": "code",
      "execution_count": null,
      "id": "ZHvhAg3QuPYp",
      "metadata": {
        "id": "ZHvhAg3QuPYp"
      },
      "outputs": [],
      "source": [
        "cutoff = int(0.9999 * num_households)"
      ]
    },
    {
      "cell_type": "code",
      "execution_count": null,
      "id": "EjaiBcjCvZVt",
      "metadata": {
        "colab": {
          "base_uri": "https://localhost:8080/"
        },
        "id": "EjaiBcjCvZVt",
        "outputId": "3db4dbc6-e7a7-4e26-80e9-f0cbce63bd8b"
      },
      "outputs": [
        {
          "output_type": "execute_result",
          "data": {
            "text/plain": [
              "1000"
            ]
          },
          "metadata": {},
          "execution_count": 45
        }
      ],
      "source": [
        "num_households - cutoff"
      ]
    },
    {
      "cell_type": "code",
      "execution_count": null,
      "id": "D1L1LRXcwsmD",
      "metadata": {
        "id": "D1L1LRXcwsmD"
      },
      "outputs": [],
      "source": [
        "(alpha, xmin, L), (p, gof) = estimation(ψ_star, cutoff, B=500)"
      ]
    },
    {
      "cell_type": "code",
      "execution_count": null,
      "id": "ZVfFe83Nvp9x",
      "metadata": {
        "colab": {
          "base_uri": "https://localhost:8080/"
        },
        "id": "ZVfFe83Nvp9x",
        "outputId": "b778046e-62a9-44cb-9f98-0cbf0cba95cc"
      },
      "outputs": [
        {
          "output_type": "execute_result",
          "data": {
            "text/plain": [
              "(1.6061724252112306, 0.388, 0.029174029939869194)"
            ]
          },
          "metadata": {},
          "execution_count": 47
        }
      ],
      "source": [
        "alpha, p, xmin # wealth tail"
      ]
    },
    {
      "cell_type": "code",
      "execution_count": null,
      "id": "914845f7-fb02-4d67-9641-ab9129edbc06",
      "metadata": {
        "id": "914845f7-fb02-4d67-9641-ab9129edbc06"
      },
      "outputs": [],
      "source": [
        "(alpha, xmin, L), (p, gof) = estimation(c_star, cutoff, B=500)"
      ]
    },
    {
      "cell_type": "code",
      "execution_count": null,
      "id": "JKNw8g5tzv1i",
      "metadata": {
        "colab": {
          "base_uri": "https://localhost:8080/"
        },
        "id": "JKNw8g5tzv1i",
        "outputId": "8eecfc1e-89f1-4f07-c73b-cc66bce69f6e"
      },
      "outputs": [
        {
          "output_type": "execute_result",
          "data": {
            "text/plain": [
              "(1.6008899566280297, 0.89, 0.01718106242610498)"
            ]
          },
          "metadata": {},
          "execution_count": 49
        }
      ],
      "source": [
        "alpha, p, xmin# consumption tail"
      ]
    },
    {
      "cell_type": "code",
      "execution_count": null,
      "id": "ubIzyCh8nUee",
      "metadata": {
        "id": "ubIzyCh8nUee"
      },
      "outputs": [],
      "source": []
    }
  ],
  "metadata": {
    "accelerator": "GPU",
    "colab": {
      "gpuType": "A100",
      "machine_shape": "hm",
      "provenance": [],
      "include_colab_link": true
    },
    "kernelspec": {
      "display_name": "Python 3",
      "name": "python3"
    },
    "language_info": {
      "codemirror_mode": {
        "name": "ipython",
        "version": 3
      },
      "file_extension": ".py",
      "mimetype": "text/x-python",
      "name": "python",
      "nbconvert_exporter": "python",
      "pygments_lexer": "ipython3",
      "version": "3.10.9"
    }
  },
  "nbformat": 4,
  "nbformat_minor": 5
}